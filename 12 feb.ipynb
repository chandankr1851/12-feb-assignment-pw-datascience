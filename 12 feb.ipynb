{
 "cells": [
  {
   "cell_type": "code",
   "execution_count": null,
   "id": "dece8f58-7035-4e0c-8fbf-1d4ae0213a2d",
   "metadata": {},
   "outputs": [],
   "source": [
    "Q1. What is an Exception in Python? Write the difference between Exceptions and Syntax errors.\n",
    "\n",
    "An Exception in Python is an event that disrupts the normal flow of a program's execution. \n",
    "When an error occurs during program execution, Python generates an Exception object, \n",
    "which contains information about the type of error and the location in the code where the error occurred. \n",
    "Exception handling allows programmers to handle these errors gracefully and take appropriate actions.\n",
    "\n",
    "Difference between Exceptions and Syntax errors:\n",
    "\n",
    "Exceptions:\n",
    "\n",
    "Exceptions occur during the runtime of a program when something unexpected or erroneous happens.\n",
    "Examples of exceptions include ZeroDivisionError, ValueError, TypeError, etc.\n",
    "Exceptions can be handled using try-except blocks.\n",
    "Syntax Errors:\n",
    "\n",
    "Syntax errors occur during the parsing (compilation) of a program when the Python interpreter encounters invalid syntax.\n",
    "Syntax errors prevent the program from executing altogether.\n",
    "Examples of syntax errors include missing colons, incorrect indentation, missing parentheses, etc.\n",
    "Syntax errors need to be fixed before the program can be executed."
   ]
  },
  {
   "cell_type": "code",
   "execution_count": null,
   "id": "6220e971-f205-4c10-aa13-57247e80db7c",
   "metadata": {},
   "outputs": [],
   "source": [
    "Q2. What happens when an exception is not handled? Explain with an example.\n",
    "\n",
    "When an exception is not handled, it results in an uncaught exception, \n",
    "and the program execution is terminated immediately. \n",
    "The interpreter displays an error message (traceback) that shows where\n",
    "the exception occurred in the code, which can be useful for debugging.\n",
    "\n",
    "Example:\n",
    "    def divide(a, b):\n",
    "    return a / b\n",
    "\n",
    "result = divide(10, 0)\n",
    "print(\"Result:\", result)  # This line will not be executed due to the unhandled exception.\n",
    "ZeroDivisionError: division by zero\n",
    "In this example, the divide() function attempts to divide the first argument by the second argument. \n",
    "When calling divide(10, 0), it raises a ZeroDivisionError because division by zero is not allowed. \n",
    "Since we did not handle the exception, the program terminates, and the \"Result:\" line is never executed."
   ]
  },
  {
   "cell_type": "code",
   "execution_count": null,
   "id": "b5eb6b9c-b363-4add-9273-d9bf71cbaa96",
   "metadata": {},
   "outputs": [],
   "source": [
    "Q3. Which Python statements are used to raise and handle exceptions? Explain with an example.\n",
    "\n",
    "To raise exceptions, we use the raise statement, and to handle exceptions, we use the try, except, else, finally, and assert statements.\n",
    "\n",
    "Example using try, except, and else:\n",
    "    def divide(a, b):\n",
    "    try:\n",
    "        result = a / b\n",
    "    except ZeroDivisionError:\n",
    "        print(\"Error: Division by zero is not allowed.\")\n",
    "    else:\n",
    "        print(\"Result:\", result)\n",
    "        \n",
    "divide(10, 2)   # Output: Result: 5.0\n",
    "divide(10, 0)   # Output: Error: Division by zero is not allowed.\n",
    "In this example, the divide() function attempts to divide the first argument by the second argument. \n",
    "If an exception occurs during the division (e.g., ZeroDivisionError), the except block is executed, \n",
    "which handles the exception. If no exception occurs, the else block is executed."
   ]
  },
  {
   "cell_type": "code",
   "execution_count": null,
   "id": "927f2543-e67b-42c0-9e1d-33240bd80fd5",
   "metadata": {},
   "outputs": [],
   "source": [
    "Q4. Explain with an example: try, except, finally, and raise.\n",
    "try:\n",
    "    num = int(input(\"Enter a number: \"))\n",
    "    result = 10 / num\n",
    "except ValueError:\n",
    "    print(\"Invalid input. Please enter a valid integer.\")\n",
    "except ZeroDivisionError:\n",
    "    print(\"Cannot divide by zero.\")\n",
    "else:\n",
    "    print(\"Result:\", result)\n",
    "finally:\n",
    "    print(\"This block always executes, regardless of exceptions.\")\n",
    "\n",
    "# Example of raising an exception\n",
    "try:\n",
    "    raise ValueError(\"This is a custom error message.\")\n",
    "except ValueError as e:\n",
    "    print(\"Caught the exception:\", e)\n",
    "In this example, we use the try, except, else, and finally blocks to handle exceptions. \n",
    "If the user enters a non-integer value or tries to divide by zero, the appropriate except block will be executed. \n",
    "If no exception occurs, the else block will execute. The finally block always executes, whether an exception occurred or not.\n"
   ]
  },
  {
   "cell_type": "code",
   "execution_count": null,
   "id": "cada4e17-7e5b-4d39-ab31-1fbb92fd7668",
   "metadata": {},
   "outputs": [],
   "source": [
    "Q5. What are Custom Exceptions in Python? Why do we need Custom Exceptions? Explain with an example.\n",
    "\n",
    "Custom Exceptions in Python are user-defined exceptions that allow developers to create their own specialized \n",
    "exception classes. These exceptions can be raised in specific situations where predefined Python exceptions \n",
    "might not fully convey the error or information needed.\n",
    "\n",
    "We need Custom Exceptions to provide more meaningful error messages and to better organize exception handling in our code.\n",
    "By creating custom exception classes, we can catch specific errors with a more descriptive message and handle them appropriately.\n",
    "\n",
    "Example:"
   ]
  }
 ],
 "metadata": {
  "kernelspec": {
   "display_name": "Python 3 (ipykernel)",
   "language": "python",
   "name": "python3"
  },
  "language_info": {
   "codemirror_mode": {
    "name": "ipython",
    "version": 3
   },
   "file_extension": ".py",
   "mimetype": "text/x-python",
   "name": "python",
   "nbconvert_exporter": "python",
   "pygments_lexer": "ipython3",
   "version": "3.10.8"
  }
 },
 "nbformat": 4,
 "nbformat_minor": 5
}
